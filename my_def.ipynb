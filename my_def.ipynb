{
 "cells": [
  {
   "cell_type": "markdown",
   "metadata": {},
   "source": [
    "random_state=42 :- \n",
    "When you split your data into training and test sets, the split is done randomly. If you don't specify a random_state, every time you run the code, the data might be split differently. This can lead to slightly different results each time you train your model, which can make it difficult to reproduce results or debug your model effectively."
   ]
  },
  {
   "cell_type": "markdown",
   "metadata": {},
   "source": [
    "#### Standardization"
   ]
  },
  {
   "cell_type": "markdown",
   "metadata": {
    "vscode": {
     "languageId": "plaintext"
    }
   },
   "source": [
    "for example the value of independent feature is in km and the value of dependent feature is in cm the gradient descent is more complex to implement so we use standardiztion on independent features"
   ]
  },
  {
   "cell_type": "markdown",
   "metadata": {},
   "source": [
    "# Note"
   ]
  },
  {
   "cell_type": "markdown",
   "metadata": {},
   "source": [
    "1. Remember we standardize the input feature beacuse gradient descent is always applied to independent feature\n",
    "2. Whenever you are using a libraby from sklearn remember to initialize a variable with it example:  \n",
    "from sklearn.linear_model import LinearRegression       \n",
    "regression = LinearRegression()\n",
    "3. LinearRegression() takes four parameter:    \n",
    "    1.fit_intercept: if false it will not calcualte intercept    \n",
    "    2.copy_X: If True, X will be copied; else, it may be overwritten.    \n",
    "    3.n_jobs: increase computing speed    \n",
    "    4.positive: if true force slope to be positive    \n",
    "    Therefore it LinearRegression return four things coef_, rank_, singular_, intercept_, n_features_in \n",
    "4. Whenever we want to make prediction at that time only we use x_test and y_test\n",
    "5. uniformly destributed means data is destributed everywhere without following a specific pattern\n",
    "6. np.linespace(-3, 3, 300): linespace creates an array in numpy, it has three parameter first two are range from where to where and third parameter is how many bloack do you need."
   ]
  },
  {
   "cell_type": "markdown",
   "metadata": {},
   "source": [
    "percentage = df_copy['Classes'].value_counts(normalize=True)*100    \n",
    "if you use normalize you will get no of value in form of percentage, and multiply by 100 to get proper percenatge"
   ]
  },
  {
   "cell_type": "markdown",
   "metadata": {},
   "source": [
    "df['Classes'] = np.where(df['Classes'].str.contains(\"not fire\"),\"not fire\" , \"fire\")"
   ]
  },
  {
   "cell_type": "markdown",
   "metadata": {},
   "source": [
    "#### Difference between iloc and loc  \n",
    "iloc:  is used for integer based indexing means if you want to access a element in a 2D array using index you can access it   \n",
    "\n",
    ".loc: is used for label-based indexing, meaning it selects data by the row and column labels (names)."
   ]
  },
  {
   "cell_type": "code",
   "execution_count": 8,
   "metadata": {},
   "outputs": [
    {
     "data": {
      "text/plain": [
       "[0, 1, 1, 2, 3, 3, 4]"
      ]
     },
     "execution_count": 8,
     "metadata": {},
     "output_type": "execute_result"
    }
   ],
   "source": [
    "class Solution:\n",
    "    def removeDuplicates(self, nums):\n",
    "        list1 = []\n",
    "        for i in nums:\n",
    "            if i in list1:\n",
    "                del nums[i]\n",
    "            else:\n",
    "                list1.append(i)\n",
    "        return nums\n",
    "\n",
    "obj1 = Solution()\n",
    "result = obj1.removeDuplicates([0,0,1,1,1,2,2,3,3,4])\n",
    "result"
   ]
  },
  {
   "cell_type": "code",
   "execution_count": 5,
   "metadata": {},
   "outputs": [
    {
     "name": "stdout",
     "output_type": "stream",
     "text": [
      "9\n"
     ]
    }
   ],
   "source": [
    "class Solution:\n",
    "    def findKthPositive(self, arr, k):\n",
    "        arr1 = []\n",
    "        for i in range(1, max(arr)):\n",
    "            if i in arr:\n",
    "                pass\n",
    "            else:\n",
    "                arr1.append(i)\n",
    "\n",
    "        return arr1[k-1]\n",
    "    \n",
    "obj1 = Solution()\n",
    "result = obj1.findKthPositive([2,3,4,7,11], 5)\n",
    "print(result)"
   ]
  },
  {
   "cell_type": "code",
   "execution_count": 1,
   "metadata": {},
   "outputs": [
    {
     "name": "stdout",
     "output_type": "stream",
     "text": [
      "[3, 1, 5, 6, 4]\n",
      "[3, 5, 6, 4]\n",
      "[3, 5, 6]\n",
      "[1, 1, 3]\n"
     ]
    }
   ],
   "source": [
    "class Solution:\n",
    "    def findKthLargest(self, nums, k):\n",
    "        largest = nums[0]\n",
    "        for i in range(len(nums)-1):\n",
    "            if largest < nums[i]:\n",
    "                result = nums[i]\n",
    "\n",
    "        list2 = []\n",
    "        while len(list2) < k:\n",
    "            for i in range(len(nums)-1, -1, -1):\n",
    "                if nums[i] <= largest and nums[i]:\n",
    "                    list2.append(nums[i])\n",
    "                    nums.pop(nums[i])\n",
    "                    print(nums)\n",
    "        return list2\n",
    "    \n",
    "obj = Solution()\n",
    "result = obj.findKthLargest([3,2,1,5,6,4], 2)\n",
    "print(result)"
   ]
  },
  {
   "cell_type": "code",
   "execution_count": 3,
   "metadata": {},
   "outputs": [
    {
     "name": "stdout",
     "output_type": "stream",
     "text": [
      "[64, 25, 12, 22, 11]\n"
     ]
    }
   ],
   "source": [
    "def selection_sort(lst):\n",
    "    for i in range(0, len(lst) - 1):\n",
    "        smallest = lst[i]\n",
    "        for j in range(i, len(lst) - 1):\n",
    "            if lst[j] < smallest:\n",
    "                smallest = lst[j]\n",
    "                lst[j], smallest = smallest, lst[j]\n",
    "                \n",
    "    return lst\n",
    "\n",
    "result = selection_sort([64, 25, 12, 22, 11])\n",
    "print(result)"
   ]
  },
  {
   "cell_type": "code",
   "execution_count": 1,
   "metadata": {},
   "outputs": [
    {
     "name": "stdout",
     "output_type": "stream",
     "text": [
      "[11, 12, 22, 25, 64]\n"
     ]
    }
   ],
   "source": [
    "def selection_sort(lst):\n",
    "    n = len(lst)\n",
    "    for i in range(0, n-1):\n",
    "        smallest = i\n",
    "        for j in range(i + 1, n):\n",
    "            if lst[j] < lst[smallest]:\n",
    "                smallest = j\n",
    "\n",
    "        lst[i], lst[smallest] = lst[smallest], lst[i]\n",
    "                \n",
    "    return lst\n",
    "\n",
    "result = selection_sort([64, 25, 12, 22, 11])\n",
    "print(result)"
   ]
  },
  {
   "cell_type": "code",
   "execution_count": 7,
   "metadata": {},
   "outputs": [
    {
     "name": "stdout",
     "output_type": "stream",
     "text": [
      "[16, -12, 5, 3, 2, -5, -5, 11, -8]\n"
     ]
    }
   ],
   "source": [
    "class Solution:\n",
    "    def wiggleMaxLength(self, nums):\n",
    "        nums2 = []\n",
    "        n = len(nums)\n",
    "        for i in range(0, n-1):\n",
    "            appender = nums[i + 1] - nums[i]\n",
    "            nums2.append(appender)\n",
    "\n",
    "        return nums2\n",
    "\n",
    "obj = Solution()\n",
    "result = obj.wiggleMaxLength([1,17,5,10,13,15,10,5,16,8])\n",
    "print(result)"
   ]
  },
  {
   "cell_type": "code",
   "execution_count": 10,
   "metadata": {},
   "outputs": [
    {
     "name": "stdout",
     "output_type": "stream",
     "text": [
      "[5, 6, 11, 12, 13]\n"
     ]
    }
   ],
   "source": [
    "def insertion_sort(lst):\n",
    "    n = len(lst)\n",
    "    for i in range(1, n):\n",
    "        currentCard = lst[i]\n",
    "        correntPosition = i - 1\n",
    "\n",
    "        while correntPosition >= 0:\n",
    "            if (lst[correntPosition] < currentCard):\n",
    "                break\n",
    "            else:\n",
    "                lst[correntPosition+1] = lst[correntPosition]\n",
    "                correntPosition-=1\n",
    "            \n",
    "        lst[correntPosition+1] = currentCard\n",
    "\n",
    "    return lst\n",
    "\n",
    "result = insertion_sort([12, 11, 13, 5, 6])\n",
    "print(result)"
   ]
  },
  {
   "cell_type": "code",
   "execution_count": 21,
   "metadata": {},
   "outputs": [
    {
     "name": "stdout",
     "output_type": "stream",
     "text": [
      "7\n"
     ]
    }
   ],
   "source": [
    "class Solution:\n",
    "    def countNegatives(self, grid):\n",
    "        def count_negatives_in_row(row):\n",
    "            left, right = 0, len(row)\n",
    "            while left < right:\n",
    "                mid = (left + right) // 2\n",
    "                if row[mid] < 0:\n",
    "                    right = mid\n",
    "                else:\n",
    "                    left = mid + 1\n",
    "            return len(row) - right\n",
    "    \n",
    "        total_negatives = 0\n",
    "        for row in grid:\n",
    "            total_negatives += count_negatives_in_row(row)\n",
    "            \n",
    "        return total_negatives\n",
    "\n",
    "obj = Solution()\n",
    "result = obj.countNegatives([[4, 3, 2, 1], [3, 2, 1, -1], [1, 1, -1, -2], [-1, -1, -2, -3]])\n",
    "print(result)"
   ]
  },
  {
   "cell_type": "code",
   "execution_count": 32,
   "metadata": {},
   "outputs": [
    {
     "name": "stdout",
     "output_type": "stream",
     "text": [
      "c\n"
     ]
    }
   ],
   "source": [
    "def next_greatest_letter(letters, target):\n",
    "    start, end = 0, len(letters)-1\n",
    "    if target >= letters[-1]:\n",
    "        return letters[0]\n",
    "        \n",
    "    while start <= end:\n",
    "        mid = (end+start)//2\n",
    "        if letters[mid] > target:\n",
    "            end = mid - 1\n",
    "        else:\n",
    "            start = mid + 1\n",
    "            \n",
    "    return letters[start]\n",
    "\n",
    "result = next_greatest_letter([\"c\",\"f\",\"j\"], \"j\")\n",
    "print(result)"
   ]
  },
  {
   "cell_type": "code",
   "execution_count": 2,
   "metadata": {},
   "outputs": [
    {
     "name": "stdout",
     "output_type": "stream",
     "text": [
      "[3, 4]\n"
     ]
    }
   ],
   "source": [
    "def searchRange(nums, target):\n",
    "    def findFirst(nums, target):\n",
    "        result = -1\n",
    "        start, end = 0, len(nums)-1\n",
    "        while start <= end:\n",
    "            mid = (end+start)//2\n",
    "            if nums[mid] == target:\n",
    "                result = mid\n",
    "                end = mid - 1\n",
    "            elif nums[mid] > target:\n",
    "                end = mid - 1\n",
    "            else:\n",
    "                start = mid + 1\n",
    "\n",
    "        return result\n",
    "    \n",
    "    def findLast(nums, target):\n",
    "        result = -1\n",
    "        start, end = 0, len(nums)-1\n",
    "        while start <= end:\n",
    "            mid = (end+start)//2\n",
    "            if nums[mid] == target:\n",
    "                result = mid\n",
    "                start = mid + 1\n",
    "            elif nums[mid] > target:\n",
    "                end = mid - 1\n",
    "            else:\n",
    "                start = mid + 1\n",
    "        return result\n",
    "    \n",
    "    start = findFirst(nums, target)\n",
    "    end = findLast(nums, target)\n",
    "\n",
    "    return [start, end]\n",
    "\n",
    "final_result = searchRange([5, 7, 7, 8, 8, 10], 8)\n",
    "print(final_result)\n",
    "\n"
   ]
  },
  {
   "cell_type": "code",
   "execution_count": 3,
   "metadata": {},
   "outputs": [
    {
     "name": "stdout",
     "output_type": "stream",
     "text": [
      "4\n"
     ]
    }
   ],
   "source": [
    "def findTarget(nums, target):\n",
    "    start, end = 0, len(nums)-1\n",
    "    while start <= end:\n",
    "        mid = (end+start)//2\n",
    "        if nums[mid] == target:\n",
    "            return mid\n",
    "        \n",
    "        if nums[start] <= nums[mid]:\n",
    "            if nums[start] <= target < nums[mid]:\n",
    "                end = mid - 1\n",
    "            else:\n",
    "                start = mid + 1\n",
    "        else:\n",
    "            if nums[mid] < target <= nums[end]:\n",
    "                start = mid + 1\n",
    "            else:\n",
    "                end = mid - 1\n",
    "\n",
    "    return -1\n",
    "\n",
    "result = findTarget([4, 5, 6, 7, 0, 1, 2], 0)\n",
    "print(result)"
   ]
  },
  {
   "cell_type": "code",
   "execution_count": 26,
   "metadata": {},
   "outputs": [
    {
     "name": "stdout",
     "output_type": "stream",
     "text": [
      "['*****', '*****', '*****', '*****', '*****']\n"
     ]
    }
   ],
   "source": [
    "def generate_square(n):\n",
    "    list2 = []\n",
    "    for i in range(0, n):\n",
    "        star = '*'\n",
    "        star2 = ''\n",
    "        for j in range(0, n):\n",
    "            star2 += star\n",
    "        list2.append(star2)\n",
    "    return list2\n",
    "\n",
    "result = generate_square(5)\n",
    "print(result)"
   ]
  },
  {
   "cell_type": "code",
   "execution_count": 36,
   "metadata": {},
   "outputs": [
    {
     "name": "stdout",
     "output_type": "stream",
     "text": [
      "['*****', '*   *', '*   *', '*   *', '*****']\n"
     ]
    }
   ],
   "source": [
    "def generate_square(n):\n",
    "    square = []\n",
    "    if n==1:\n",
    "        return ['*']\n",
    "    \n",
    "    square.append('*' * n)\n",
    "\n",
    "    for i in range(n-2):\n",
    "        square.append('*' + ' ' * (n-2) + '*')\n",
    "\n",
    "    square.append('*' * n)\n",
    "\n",
    "    return square\n",
    "\n",
    "result = generate_square(5)\n",
    "print(result)"
   ]
  },
  {
   "cell_type": "code",
   "execution_count": 1,
   "metadata": {},
   "outputs": [
    {
     "name": "stdout",
     "output_type": "stream",
     "text": [
      "['*****', '*****', '*****', '*****']\n"
     ]
    }
   ],
   "source": [
    "def generate_rectangle(n, m):\n",
    "    square = []\n",
    "    if n >= 1 and m <= 100:\n",
    "        for i  in range(0, n):\n",
    "            square2 = ''\n",
    "            star = '*'\n",
    "            for j in range(0, m):\n",
    "                square2 += star\n",
    "            square.append(square2)\n",
    "            \n",
    "    return square\n",
    "\n",
    "result = generate_rectangle(4, 5)\n",
    "print(result)"
   ]
  },
  {
   "cell_type": "code",
   "execution_count": 5,
   "metadata": {},
   "outputs": [
    {
     "name": "stdout",
     "output_type": "stream",
     "text": [
      "['***', '**', '*']\n"
     ]
    }
   ],
   "source": [
    "def generate_inverted_triangle(n):\n",
    "    square = []\n",
    "    star = '*'\n",
    "    for i in range(0, n):\n",
    "        blank = ''\n",
    "        for j in range(n, i, -1):\n",
    "            blank += star\n",
    "        square.append(blank)\n",
    "        \n",
    "    return square\n",
    "\n",
    "result = generate_inverted_triangle(3)\n",
    "print(result)"
   ]
  },
  {
   "cell_type": "code",
   "execution_count": 1,
   "metadata": {},
   "outputs": [
    {
     "name": "stdout",
     "output_type": "stream",
     "text": [
      "Stars *\n",
      "Spaces   \n",
      "Stars ***\n",
      "Spaces  \n",
      "Stars *****\n",
      "Spaces \n",
      "['  *  ', ' *** ', '*****']\n"
     ]
    }
   ],
   "source": [
    "def generate(n):\n",
    "    list2 = []\n",
    "    for i in range(1, n+1):\n",
    "        stars = '*' * (2 * i - 1)\n",
    "        print(\"Stars\", stars)\n",
    "        spaces = ' ' * (n - i)\n",
    "        print(\"Spaces\", spaces)\n",
    "        list2.append(spaces + stars + spaces)\n",
    "\n",
    "    return list2\n",
    "\n",
    "result = generate(3)\n",
    "print(result)"
   ]
  },
  {
   "cell_type": "code",
   "execution_count": 15,
   "metadata": {},
   "outputs": [
    {
     "name": "stdout",
     "output_type": "stream",
     "text": [
      "['*****', ' *** ', '  *  ']\n"
     ]
    }
   ],
   "source": [
    "def generate_inverted_pyramid(n):\n",
    "    list2 = []\n",
    "    for i in range(n, 0, -1):\n",
    "        stars = '*' * (2 * i - 1)\n",
    "        spaces = ' ' * (n - i)\n",
    "        list2.append(spaces + stars + spaces)\n",
    "    return list2\n",
    "\n",
    "result = generate_inverted_pyramid(3)\n",
    "print(result)"
   ]
  },
  {
   "cell_type": "code",
   "execution_count": 22,
   "metadata": {},
   "outputs": [
    {
     "name": "stdout",
     "output_type": "stream",
     "text": [
      "['1', '22', '333']\n"
     ]
    }
   ],
   "source": [
    "def generate_number_triangle(n):\n",
    "    list2 = []\n",
    "    for i in range(1, n+1):\n",
    "        nums = str(i) * i\n",
    "        list2.append(nums)\n",
    "    return list2\n",
    "result = generate_number_triangle(3)\n",
    "print(result)"
   ]
  },
  {
   "cell_type": "code",
   "execution_count": 27,
   "metadata": {},
   "outputs": [
    {
     "name": "stdout",
     "output_type": "stream",
     "text": [
      "['1', '2 3', '4 5 6', '7 8 9 10', '11 12 13 14 15']\n"
     ]
    }
   ],
   "source": [
    "def generate_floyds_triangle(n):\n",
    "    list2 = []\n",
    "    current_num = 1\n",
    "    for i in range(1, n+1):\n",
    "        row = ' '.join(str(current_num + j) for j in range(i))\n",
    "        list2.append(row)\n",
    "        current_num += i\n",
    "    return list2\n",
    "\n",
    "\n",
    "result = generate_floyds_triangle(5)\n",
    "print(result)"
   ]
  },
  {
   "cell_type": "code",
   "execution_count": 33,
   "metadata": {},
   "outputs": [
    {
     "name": "stdout",
     "output_type": "stream",
     "text": [
      "['  *  ', ' *** ', '*****', ' *** ', '  *  ']\n"
     ]
    }
   ],
   "source": [
    "def generate_diamond(n):\n",
    "    list2 = []\n",
    "    for i in range(1, n+1):\n",
    "        stars = '*' * (2 * i - 1)\n",
    "        spaces = ' ' * (n-i)\n",
    "        list2.append(spaces + stars + spaces)\n",
    "        \n",
    "    for i in range(n-1, 0, -1):\n",
    "        stars = '*' * (2 * i - 1)\n",
    "        spaces = ' ' * (n - i)\n",
    "        list2.append(spaces + stars + spaces)\n",
    "\n",
    "    return list2\n",
    "\n",
    "result = generate_diamond(3)\n",
    "print(result)"
   ]
  },
  {
   "cell_type": "code",
   "execution_count": 34,
   "metadata": {},
   "outputs": [
    {
     "name": "stdout",
     "output_type": "stream",
     "text": [
      "['   *', '  **', ' ***', '****']\n"
     ]
    }
   ],
   "source": [
    "def generate_right_angled_triangle(n):\n",
    "    list2 = []\n",
    "    for i in range(1, n+1):\n",
    "        spaces = ' ' * (n-i)\n",
    "        stars = '*' * (1 * i)\n",
    "        list2.append(spaces + stars)\n",
    "    return list2\n",
    "\n",
    "result = generate_right_angled_triangle(4)\n",
    "print(result)"
   ]
  },
  {
   "cell_type": "code",
   "execution_count": 36,
   "metadata": {},
   "outputs": [
    {
     "name": "stdout",
     "output_type": "stream",
     "text": [
      "['*****', ' *** ', '  *  ', ' *** ', '*****']\n"
     ]
    }
   ],
   "source": [
    "def generate_sandglass(n):\n",
    "    list2 = []\n",
    "    for i in range(n, 0, -1):\n",
    "        stars = '*' * (2 * i - 1)\n",
    "        spaces = ' ' * (n-i)\n",
    "        list2.append(spaces + stars + spaces)\n",
    "\n",
    "    for i in range(2, n+1):\n",
    "        stars = '*' * (2 * i - 1)\n",
    "        spaces = ' ' * (n-i)\n",
    "        list2.append(spaces + stars + spaces)\n",
    "\n",
    "    return list2\n",
    "\n",
    "result = generate_sandglass(3)\n",
    "print(result)"
   ]
  },
  {
   "cell_type": "code",
   "execution_count": 7,
   "metadata": {},
   "outputs": [
    {
     "name": "stdout",
     "output_type": "stream",
     "text": [
      "['*****', '*  *', '* *', '**', '*']\n"
     ]
    }
   ],
   "source": [
    "def generate_hollow_right_angled_triangle(n):\n",
    "    square = []\n",
    "    for i in range(n, 0, -1):\n",
    "        if i == 1:\n",
    "            square.append('*')\n",
    "        elif i == n:\n",
    "            square.append('*' * n)\n",
    "        else:\n",
    "            square.append('*' + ' ' * (i - 2) + '*')\n",
    "\n",
    "    return square\n",
    "\n",
    "\n",
    "result = generate_hollow_right_angled_triangle(5)\n",
    "print(result)"
   ]
  },
  {
   "cell_type": "code",
   "execution_count": null,
   "metadata": {},
   "outputs": [],
   "source": []
  },
  {
   "cell_type": "code",
   "execution_count": null,
   "metadata": {},
   "outputs": [],
   "source": []
  }
 ],
 "metadata": {
  "kernelspec": {
   "display_name": "Python 3",
   "language": "python",
   "name": "python3"
  },
  "language_info": {
   "codemirror_mode": {
    "name": "ipython",
    "version": 3
   },
   "file_extension": ".py",
   "mimetype": "text/x-python",
   "name": "python",
   "nbconvert_exporter": "python",
   "pygments_lexer": "ipython3",
   "version": "3.12.4"
  }
 },
 "nbformat": 4,
 "nbformat_minor": 2
}
