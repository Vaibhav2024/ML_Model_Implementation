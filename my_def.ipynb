{
 "cells": [
  {
   "cell_type": "markdown",
   "metadata": {},
   "source": [
    "random_state=42 :- \n",
    "When you split your data into training and test sets, the split is done randomly. If you don't specify a random_state, every time you run the code, the data might be split differently. This can lead to slightly different results each time you train your model, which can make it difficult to reproduce results or debug your model effectively."
   ]
  },
  {
   "cell_type": "markdown",
   "metadata": {},
   "source": [
    "#### Standardization"
   ]
  },
  {
   "cell_type": "markdown",
   "metadata": {
    "vscode": {
     "languageId": "plaintext"
    }
   },
   "source": [
    "for example the value of independent feature is in km and the value of dependent feature is in cm the gradient descent is more complex to implement so we use standardiztion on independent features"
   ]
  },
  {
   "cell_type": "markdown",
   "metadata": {},
   "source": [
    "# Note"
   ]
  },
  {
   "cell_type": "markdown",
   "metadata": {},
   "source": [
    "1. Remember we standardize the input feature beacuse gradient descent is always applied to independent feature\n",
    "2. Whenever you are using a libraby from sklearn remember to initialize a variable with it example:  \n",
    "from sklearn.linear_model import LinearRegression       \n",
    "regression = LinearRegression()\n",
    "3. LinearRegression() takes four parameter:    \n",
    "    1.fit_intercept: if false it will not calcualte intercept    \n",
    "    2.copy_X: If True, X will be copied; else, it may be overwritten.    \n",
    "    3.n_jobs: increase computing speed    \n",
    "    4.positive: if true force slope to be positive    \n",
    "    Therefore it LinearRegression return four things coef_, rank_, singular_, intercept_, n_features_in \n",
    "4. Whenever we want to make prediction at that time only we use x_test and y_test\n",
    "5. uniformly destributed means data is destributed everywhere without following a specific pattern"
   ]
  }
 ],
 "metadata": {
  "language_info": {
   "name": "python"
  }
 },
 "nbformat": 4,
 "nbformat_minor": 2
}
