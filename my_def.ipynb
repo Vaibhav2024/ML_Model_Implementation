{
 "cells": [
  {
   "cell_type": "markdown",
   "metadata": {},
   "source": [
    "random_state=42 :- \n",
    "When you split your data into training and test sets, the split is done randomly. If you don't specify a random_state, every time you run the code, the data might be split differently. This can lead to slightly different results each time you train your model, which can make it difficult to reproduce results or debug your model effectively."
   ]
  },
  {
   "cell_type": "markdown",
   "metadata": {},
   "source": [
    "#### Standardization"
   ]
  },
  {
   "cell_type": "markdown",
   "metadata": {
    "vscode": {
     "languageId": "plaintext"
    }
   },
   "source": [
    "for example the value of independent feature is in km and the value of dependent feature is in cm the gradient descent is more complex to implement so we use standardiztion on independent features"
   ]
  },
  {
   "cell_type": "markdown",
   "metadata": {},
   "source": [
    "# Note"
   ]
  },
  {
   "cell_type": "markdown",
   "metadata": {},
   "source": [
    "1. Remember we standardize the input feature beacuse gradient descent is always applied to independent feature\n",
    "2. Whenever you are using a libraby from sklearn remember to initialize a variable with it example:  \n",
    "from sklearn.linear_model import LinearRegression       \n",
    "regression = LinearRegression()\n",
    "3. LinearRegression() takes four parameter:    \n",
    "    1.fit_intercept: if false it will not calcualte intercept    \n",
    "    2.copy_X: If True, X will be copied; else, it may be overwritten.    \n",
    "    3.n_jobs: increase computing speed    \n",
    "    4.positive: if true force slope to be positive    \n",
    "    Therefore it LinearRegression return four things coef_, rank_, singular_, intercept_, n_features_in \n",
    "4. Whenever we want to make prediction at that time only we use x_test and y_test\n",
    "5. uniformly destributed means data is destributed everywhere without following a specific pattern\n",
    "6. np.linespace(-3, 3, 300): linespace creates an array in numpy, it has three parameter first two are range from where to where and third parameter is how many bloack do you need."
   ]
  },
  {
   "cell_type": "markdown",
   "metadata": {},
   "source": [
    "percentage = df_copy['Classes'].value_counts(normalize=True)*100    \n",
    "if you use normalize you will get no of value in form of percentage, and multiply by 100 to get proper percenatge"
   ]
  },
  {
   "cell_type": "markdown",
   "metadata": {},
   "source": [
    "df['Classes'] = np.where(df['Classes'].str.contains(\"not fire\"),\"not fire\" , \"fire\")"
   ]
  },
  {
   "cell_type": "markdown",
   "metadata": {},
   "source": [
    "#### Difference between iloc and loc  \n",
    "iloc:  is used for integer based indexing means if you want to access a element in a 2D array using index you can access it   \n",
    "\n",
    ".loc: is used for label-based indexing, meaning it selects data by the row and column labels (names)."
   ]
  },
  {
   "cell_type": "code",
   "execution_count": 8,
   "metadata": {},
   "outputs": [
    {
     "data": {
      "text/plain": [
       "[0, 1, 1, 2, 3, 3, 4]"
      ]
     },
     "execution_count": 8,
     "metadata": {},
     "output_type": "execute_result"
    }
   ],
   "source": [
    "class Solution:\n",
    "    def removeDuplicates(self, nums):\n",
    "        list1 = []\n",
    "        for i in nums:\n",
    "            if i in list1:\n",
    "                del nums[i]\n",
    "            else:\n",
    "                list1.append(i)\n",
    "        return nums\n",
    "\n",
    "obj1 = Solution()\n",
    "result = obj1.removeDuplicates([0,0,1,1,1,2,2,3,3,4])\n",
    "result"
   ]
  },
  {
   "cell_type": "code",
   "execution_count": 5,
   "metadata": {},
   "outputs": [
    {
     "name": "stdout",
     "output_type": "stream",
     "text": [
      "9\n"
     ]
    }
   ],
   "source": [
    "class Solution:\n",
    "    def findKthPositive(self, arr, k):\n",
    "        arr1 = []\n",
    "        for i in range(1, max(arr)):\n",
    "            if i in arr:\n",
    "                pass\n",
    "            else:\n",
    "                arr1.append(i)\n",
    "\n",
    "        return arr1[k-1]\n",
    "    \n",
    "obj1 = Solution()\n",
    "result = obj1.findKthPositive([2,3,4,7,11], 5)\n",
    "print(result)"
   ]
  }
 ],
 "metadata": {
  "kernelspec": {
   "display_name": "Python 3",
   "language": "python",
   "name": "python3"
  },
  "language_info": {
   "codemirror_mode": {
    "name": "ipython",
    "version": 3
   },
   "file_extension": ".py",
   "mimetype": "text/x-python",
   "name": "python",
   "nbconvert_exporter": "python",
   "pygments_lexer": "ipython3",
   "version": "3.12.4"
  }
 },
 "nbformat": 4,
 "nbformat_minor": 2
}
